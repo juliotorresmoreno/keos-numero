{
 "cells": [
  {
   "cell_type": "code",
   "execution_count": 1,
   "metadata": {},
   "outputs": [],
   "source": [
    "\n",
    "import asyncio\n",
    "import datetime\n",
    "import numpy as np\n",
    "import pickle\n",
    "from primesieve.numpy import primes\n",
    "from BTrees.OOBTree import OOBTree"
   ]
  },
  {
   "cell_type": "code",
   "execution_count": 2,
   "metadata": {},
   "outputs": [],
   "source": [
    "nhilos = 10\n",
    "nelements = 10000\n",
    "bash_size = 100\n",
    "max_limit = 1000\n",
    "\n",
    "bucles = int(nelements / bash_size)\n",
    "_primes = primes(max_limit)\n",
    "_fibonaci = []"
   ]
  },
  {
   "cell_type": "code",
   "execution_count": 3,
   "metadata": {},
   "outputs": [],
   "source": [
    "\n",
    "def fib_iterative(n):\n",
    "    a, b = 0, 1\n",
    "    while n > b:\n",
    "        a, b = b, a + b\n",
    "        n -= 1\n",
    "        _fibonaci.append(b)\n",
    "    return a\n",
    "\n",
    "fib_iterative(max_limit)\n",
    "\n",
    "_dict = {}\n",
    "for x in _primes:\n",
    "    _dict[x] = True\n",
    "\n",
    "t = OOBTree()\n",
    "t.update(_dict)\n",
    "\n",
    "_dict = {}\n",
    "for x in _fibonaci:\n",
    "    _dict[x] = True\n",
    "\n",
    "h = OOBTree()\n",
    "h.update(_dict)\n",
    "\n",
    "primos = []\n",
    "fibonacis = []"
   ]
  },
  {
   "cell_type": "code",
   "execution_count": 4,
   "metadata": {},
   "outputs": [],
   "source": [
    "\n",
    "@asyncio.coroutine\n",
    "def find(task):\n",
    "    yield from asyncio.sleep(2)\n",
    "    calculate()\n",
    "    \n",
    "def calculate():\n",
    "    values = np.random.randint(nelements, size=(max_limit)) #(1000)\n",
    "    for x in values:\n",
    "        if t.has_key(x) > 0:\n",
    "            primos.append(x)\n",
    "        if h.has_key(x) > 0:\n",
    "            fibonacis.append(x)"
   ]
  },
  {
   "cell_type": "code",
   "execution_count": 5,
   "metadata": {},
   "outputs": [
    {
     "name": "stdout",
     "output_type": "stream",
     "text": [
      "Ciclo: 0 de 100\n",
      "Ciclo: 10 de 100\n",
      "Ciclo: 20 de 100\n",
      "Ciclo: 30 de 100\n",
      "Ciclo: 40 de 100\n",
      "Ciclo: 50 de 100\n",
      "Ciclo: 60 de 100\n",
      "Ciclo: 70 de 100\n",
      "Ciclo: 80 de 100\n",
      "Ciclo: 90 de 100\n"
     ]
    }
   ],
   "source": [
    " \n",
    "loop = asyncio.get_event_loop()\n",
    "tasks = []\n",
    "for x in range(0, bucles):\n",
    "    if x % nhilos == 0:\n",
    "        tasks.append(asyncio.ensure_future(find(x)))\n",
    "        loop.run_until_complete(asyncio.wait(tasks))\n",
    "        tasks = []\n",
    "        print(\"Ciclo: {} de {}\".format(x, bucles))\n",
    "\n",
    "\n",
    "loop.close()\n",
    "\n",
    "primos.sort()\n",
    "fibonacis.sort()"
   ]
  },
  {
   "cell_type": "code",
   "execution_count": null,
   "metadata": {},
   "outputs": [],
   "source": [
    "\n",
    "with open('primos.dump', 'wb') as fp:\n",
    "    pickle.dump(primos, fp)\n",
    "\n",
    "with open('fibonacis.dump', 'wb') as fp:\n",
    "    pickle.dump(fibonacis, fp)\n",
    "\n",
    "print(\"los numeros primos estan en: primos.dump\")\n",
    "print(\"los numeros fibonacis estan en: fibonacis.dump\")"
   ]
  },
  {
   "cell_type": "code",
   "execution_count": 6,
   "metadata": {},
   "outputs": [
    {
     "data": {
      "text/plain": [
       "[2,\n",
       " 3,\n",
       " 3,\n",
       " 5,\n",
       " 5,\n",
       " 11,\n",
       " 13,\n",
       " 17,\n",
       " 19,\n",
       " 19,\n",
       " 29,\n",
       " 31,\n",
       " 37,\n",
       " 37,\n",
       " 37,\n",
       " 41,\n",
       " 47,\n",
       " 47,\n",
       " 53,\n",
       " 59,\n",
       " 61,\n",
       " 67,\n",
       " 71,\n",
       " 71,\n",
       " 73,\n",
       " 79,\n",
       " 79,\n",
       " 83,\n",
       " 83,\n",
       " 83,\n",
       " 89,\n",
       " 97,\n",
       " 101,\n",
       " 103,\n",
       " 107,\n",
       " 131,\n",
       " 151,\n",
       " 151,\n",
       " 163,\n",
       " 163,\n",
       " 167,\n",
       " 167,\n",
       " 173,\n",
       " 179,\n",
       " 191,\n",
       " 199,\n",
       " 199,\n",
       " 223,\n",
       " 233,\n",
       " 233,\n",
       " 233,\n",
       " 239,\n",
       " 241,\n",
       " 271,\n",
       " 277,\n",
       " 277,\n",
       " 283,\n",
       " 283,\n",
       " 293,\n",
       " 307,\n",
       " 313,\n",
       " 317,\n",
       " 317,\n",
       " 317,\n",
       " 317,\n",
       " 337,\n",
       " 337,\n",
       " 337,\n",
       " 337,\n",
       " 347,\n",
       " 349,\n",
       " 353,\n",
       " 353,\n",
       " 359,\n",
       " 367,\n",
       " 367,\n",
       " 379,\n",
       " 383,\n",
       " 389,\n",
       " 409,\n",
       " 409,\n",
       " 409,\n",
       " 419,\n",
       " 421,\n",
       " 431,\n",
       " 431,\n",
       " 439,\n",
       " 443,\n",
       " 457,\n",
       " 457,\n",
       " 461,\n",
       " 461,\n",
       " 463,\n",
       " 467,\n",
       " 479,\n",
       " 479,\n",
       " 479,\n",
       " 487,\n",
       " 487,\n",
       " 491]"
      ]
     },
     "execution_count": 6,
     "metadata": {},
     "output_type": "execute_result"
    }
   ],
   "source": [
    "primos[0:100]"
   ]
  },
  {
   "cell_type": "code",
   "execution_count": 7,
   "metadata": {},
   "outputs": [
    {
     "data": {
      "text/plain": [
       "[1,\n",
       " 2,\n",
       " 3,\n",
       " 3,\n",
       " 5,\n",
       " 5,\n",
       " 13,\n",
       " 21,\n",
       " 21,\n",
       " 34,\n",
       " 34,\n",
       " 34,\n",
       " 55,\n",
       " 89,\n",
       " 144,\n",
       " 233,\n",
       " 233,\n",
       " 233,\n",
       " 610,\n",
       " 987]"
      ]
     },
     "execution_count": 7,
     "metadata": {},
     "output_type": "execute_result"
    }
   ],
   "source": [
    "fibonacis[0:100]"
   ]
  }
 ],
 "metadata": {
  "kernelspec": {
   "display_name": "Python 3",
   "language": "python",
   "name": "python3"
  },
  "language_info": {
   "codemirror_mode": {
    "name": "ipython",
    "version": 3
   },
   "file_extension": ".py",
   "mimetype": "text/x-python",
   "name": "python",
   "nbconvert_exporter": "python",
   "pygments_lexer": "ipython3",
   "version": "3.6.3"
  }
 },
 "nbformat": 4,
 "nbformat_minor": 2
}
